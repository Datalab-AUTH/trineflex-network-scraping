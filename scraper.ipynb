{
 "cells": [
  {
   "cell_type": "code",
   "execution_count": 1,
   "metadata": {
    "collapsed": true,
    "ExecuteTime": {
     "end_time": "2023-10-02T10:22:50.966653400Z",
     "start_time": "2023-10-02T10:22:50.177051800Z"
    }
   },
   "outputs": [
    {
     "name": "stderr",
     "output_type": "stream",
     "text": [
      "C:\\Users\\Christina\\anaconda3\\lib\\site-packages\\numpy\\_distributor_init.py:30: UserWarning: loaded more than 1 DLL from .libs:\n",
      "C:\\Users\\Christina\\anaconda3\\lib\\site-packages\\numpy\\.libs\\libopenblas.XWYDX2IKJW2NMTWSFYNGFUWKQU3LYTCZ.gfortran-win_amd64.dll\n",
      "C:\\Users\\Christina\\anaconda3\\lib\\site-packages\\numpy\\.libs\\libopenblas64__v0.3.21-gcc_10_3_0.dll\n",
      "  warnings.warn(\"loaded more than 1 DLL from .libs:\"\n"
     ]
    }
   ],
   "source": [
    "import requests\n",
    "from bs4 import BeautifulSoup\n",
    "import pandas as pd\n",
    "import numpy as np\n",
    "from openpyxl import Workbook\n",
    "from openpyxl.utils.dataframe import dataframe_to_rows\n",
    "from openpyxl.styles import Font"
   ]
  },
  {
   "cell_type": "code",
   "execution_count": 2,
   "outputs": [],
   "source": [
    "base_link = \"https://www.rescoop.eu/network\"\n",
    "data = []\n",
    "\n",
    "for i in np.arange(1, 60):\n",
    "    url = base_link + \"/p%d\" % (i)\n",
    "    response = requests.get(url)\n",
    "\n",
    "    if response.status_code != 200:  # Checking if the page is accessible\n",
    "        continue\n",
    "\n",
    "    soup = BeautifulSoup(response.content, 'html.parser')\n",
    "\n",
    "    articles = soup.select('.article-card.network-item')\n",
    "\n",
    "    for article in articles:\n",
    "        org_name = article.select_one('.article-content h2').text\n",
    "        location = article.select_one('footer h4').text\n",
    "        active_in_elements = article.select('.term-list li a')\n",
    "        active_in_data = \", \".join([elem.text for elem in active_in_elements])\n",
    "        website_elem = article.select_one('.buttons .button.external')\n",
    "        website_url = website_elem['href'] if website_elem else 'N/A'\n",
    "\n",
    "        data.append({\n",
    "            \"Organization Name\": org_name,\n",
    "            \"Location\": location,\n",
    "            \"Active In\": active_in_data,\n",
    "            \"Website\": website_url\n",
    "        })\n",
    "\n",
    "df = pd.DataFrame(data)\n",
    "#df\n",
    "#df.to_csv(\"data/network_rescoop.csv\", index=False)\n",
    "\n",
    "wb = Workbook()\n",
    "ws = wb.active\n",
    "\n",
    "for r_idx, row in enumerate(dataframe_to_rows(df, index=False, header=True), 1):\n",
    "    for c_idx, value in enumerate(row, 1):\n",
    "        cell = ws.cell(row=r_idx, column=c_idx, value=value)\n",
    "        if cell.column_letter == 'D' and (str(value).startswith(\"http://\") or str(value).startswith(\"https://\")):\n",
    "            cell.hyperlink = value  # Set the hyperlink attribute\n",
    "            cell.font = Font(color=\"0000FF\", underline=\"single\")\n",
    "\n",
    "wb.save(\"data/network_rescoop.xlsx\")"
   ],
   "metadata": {
    "collapsed": false,
    "ExecuteTime": {
     "end_time": "2023-10-02T10:23:45.170270600Z",
     "start_time": "2023-10-02T10:22:51.244916900Z"
    }
   }
  },
  {
   "cell_type": "code",
   "execution_count": null,
   "outputs": [],
   "source": [],
   "metadata": {
    "collapsed": false
   }
  }
 ],
 "metadata": {
  "kernelspec": {
   "display_name": "Python 3",
   "language": "python",
   "name": "python3"
  },
  "language_info": {
   "codemirror_mode": {
    "name": "ipython",
    "version": 2
   },
   "file_extension": ".py",
   "mimetype": "text/x-python",
   "name": "python",
   "nbconvert_exporter": "python",
   "pygments_lexer": "ipython2",
   "version": "2.7.6"
  }
 },
 "nbformat": 4,
 "nbformat_minor": 0
}
